{
  "nbformat": 4,
  "nbformat_minor": 0,
  "metadata": {
    "colab": {
      "name": "HandbookCopy.ipynb",
      "provenance": [],
      "toc_visible": true,
      "authorship_tag": "ABX9TyP7ri6/O5R/4KeOzIy59/Oc",
      "include_colab_link": true
    },
    "kernelspec": {
      "name": "python3",
      "display_name": "Python 3"
    }
  },
  "cells": [
    {
      "cell_type": "markdown",
      "metadata": {
        "id": "view-in-github",
        "colab_type": "text"
      },
      "source": [
        "<a href=\"https://colab.research.google.com/github/HLapendery/FootballAnalysis/blob/master/HandbookCopy.ipynb\" target=\"_parent\"><img src=\"https://colab.research.google.com/assets/colab-badge.svg\" alt=\"Open In Colab\"/></a>"
      ]
    },
    {
      "cell_type": "markdown",
      "metadata": {
        "id": "480Ul5f1bu0d",
        "colab_type": "text"
      },
      "source": [
        "# Data collection from StatsBomb github"
      ]
    },
    {
      "cell_type": "markdown",
      "metadata": {
        "id": "IHciP93IiC5d",
        "colab_type": "text"
      },
      "source": [
        "Importing needed libraries"
      ]
    },
    {
      "cell_type": "code",
      "metadata": {
        "id": "1CtiNtZfb_A2",
        "colab_type": "code",
        "colab": {}
      },
      "source": [
        "import pandas as pd\n",
        "from tqdm import tqdm\n",
        "import requests as rq"
      ],
      "execution_count": 0,
      "outputs": []
    },
    {
      "cell_type": "markdown",
      "metadata": {
        "id": "2HvJu3WNiCIl",
        "colab_type": "text"
      },
      "source": [
        "Indexing available competitions"
      ]
    },
    {
      "cell_type": "code",
      "metadata": {
        "id": "0Vh037DKcWKm",
        "colab_type": "code",
        "colab": {}
      },
      "source": [
        "comps_url = \"https://raw.githubusercontent.com/statsbomb/open-data/master/data/competitions.json\"\n",
        "\n",
        "df_comps = pd.read_json(comps_url)"
      ],
      "execution_count": 0,
      "outputs": []
    },
    {
      "cell_type": "markdown",
      "metadata": {
        "id": "5GZMvneJh8sE",
        "colab_type": "text"
      },
      "source": [
        "Find infos for the 2018 world cup"
      ]
    },
    {
      "cell_type": "code",
      "metadata": {
        "id": "aPlMspaQgsFu",
        "colab_type": "code",
        "colab": {
          "base_uri": "https://localhost:8080/",
          "height": 101
        },
        "outputId": "434460ec-bd97-4ff8-9db5-fa064696076c"
      },
      "source": [
        "df_comps[df_comps['competition_name'] == 'FIFA World Cup']\n"
      ],
      "execution_count": 26,
      "outputs": [
        {
          "output_type": "execute_result",
          "data": {
            "text/html": [
              "<div>\n",
              "<style scoped>\n",
              "    .dataframe tbody tr th:only-of-type {\n",
              "        vertical-align: middle;\n",
              "    }\n",
              "\n",
              "    .dataframe tbody tr th {\n",
              "        vertical-align: top;\n",
              "    }\n",
              "\n",
              "    .dataframe thead th {\n",
              "        text-align: right;\n",
              "    }\n",
              "</style>\n",
              "<table border=\"1\" class=\"dataframe\">\n",
              "  <thead>\n",
              "    <tr style=\"text-align: right;\">\n",
              "      <th></th>\n",
              "      <th>competition_id</th>\n",
              "      <th>season_id</th>\n",
              "      <th>country_name</th>\n",
              "      <th>competition_name</th>\n",
              "      <th>competition_gender</th>\n",
              "      <th>season_name</th>\n",
              "      <th>match_updated</th>\n",
              "      <th>match_available</th>\n",
              "    </tr>\n",
              "  </thead>\n",
              "  <tbody>\n",
              "    <tr>\n",
              "      <th>2</th>\n",
              "      <td>43</td>\n",
              "      <td>3</td>\n",
              "      <td>International</td>\n",
              "      <td>FIFA World Cup</td>\n",
              "      <td>male</td>\n",
              "      <td>2018</td>\n",
              "      <td>2019-12-16T23:09:16.168756</td>\n",
              "      <td>2019-12-16T23:09:16.168756</td>\n",
              "    </tr>\n",
              "  </tbody>\n",
              "</table>\n",
              "</div>"
            ],
            "text/plain": [
              "   competition_id  ...             match_available\n",
              "2              43  ...  2019-12-16T23:09:16.168756\n",
              "\n",
              "[1 rows x 8 columns]"
            ]
          },
          "metadata": {
            "tags": []
          },
          "execution_count": 26
        }
      ]
    },
    {
      "cell_type": "markdown",
      "metadata": {
        "id": "8uO-h-pFk_Q5",
        "colab_type": "text"
      },
      "source": [
        "Parse data"
      ]
    },
    {
      "cell_type": "code",
      "metadata": {
        "id": "aDONlB2ylB7q",
        "colab_type": "code",
        "colab": {}
      },
      "source": [
        "base_url = \"https://raw.githubusercontent.com/statsbomb/open-data/master/data/\"\n",
        "comp_url = base_url + \"matches/{}/{}.json\"\n",
        "match_url = base_url + \"events/{}.json\"\n",
        "\n",
        "def parse_data(competition_id, season_id):\n",
        "    matches = rq.get(url=comp_url.format(competition_id, season_id)).json()\n",
        "    match_ids = [m['match_id'] for m in matches]\n",
        "\n",
        "    all_events = []\n",
        "    for match_id in tqdm(match_ids):\n",
        "\n",
        "        events = rq.get(url=match_url.format(match_id)).json()\n",
        "\n",
        "        shots = [x for x in events if x['type']['name'] == \"Shot\"]\n",
        "        for s in shots:\n",
        "            attributes = {\n",
        "                \"match_id\": match_id,\n",
        "                \"team\": s[\"possession_team\"][\"name\"],\n",
        "                \"player\": s['player']['name'],\n",
        "                \"x\": s['location'][0],\n",
        "                \"y\": s['location'][1],\n",
        "                \"outcome\": s['shot']['outcome']['name'],\n",
        "            }\n",
        "            all_events.append(attributes)\n",
        "            \n",
        "    return pd.DataFrame(all_events)"
      ],
      "execution_count": 0,
      "outputs": []
    },
    {
      "cell_type": "code",
      "metadata": {
        "id": "9w3tsZOPlG-i",
        "colab_type": "code",
        "colab": {
          "base_uri": "https://localhost:8080/",
          "height": 35
        },
        "outputId": "c2fd2601-e1cf-422d-a9f3-c6e7987718a2"
      },
      "source": [
        "df = parse_data(43,3)"
      ],
      "execution_count": 0,
      "outputs": [
        {
          "output_type": "stream",
          "text": [
            "  3%|▎         | 2/64 [00:51<37:13, 36.03s/it]"
          ],
          "name": "stderr"
        }
      ]
    }
  ]
}